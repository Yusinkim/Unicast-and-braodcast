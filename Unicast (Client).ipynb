{
 "cells": [
  {
   "cell_type": "code",
   "execution_count": 1,
   "metadata": {},
   "outputs": [
    {
     "name": "stdout",
     "output_type": "stream",
     "text": [
      "6.1555516719818115\n",
      "6.204050302505493\n",
      "6.198267221450806\n",
      "6.073026180267334\n",
      "10.76258635520935\n",
      "23.799232959747314\n",
      "16.040965795516968\n",
      "22.861319541931152\n",
      "7.167269468307495\n",
      "9.195444822311401\n",
      "평균 시간 : 11.445771431922912\n"
     ]
    }
   ],
   "source": [
    "import socket\n",
    "import time\n",
    "import numpy as np\n",
    "\n",
    "client = socket.socket(socket.AF_INET, socket.SOCK_DGRAM)\n",
    "client.bind(('', 44440))\n",
    "\n",
    "N = 10       # 반복 횟수\n",
    "t = [0] * N\n",
    "for k in range(10):\n",
    "    n = int(client.recv(16).decode())\n",
    "    data1 = [0] * n\n",
    "    data2 = [0] * n\n",
    "\n",
    "    # 첫 번째 파일 받기\n",
    "    for i in range(n):\n",
    "        data1[i] = client.recv(60000)\n",
    "\n",
    "    # 두 번째 파일 받기\n",
    "    for i in range(n):\n",
    "        data2[i] = client.recv(60000)\n",
    "\n",
    "    start_time = float(client.recv(32).decode())\n",
    "\n",
    "    data1 = b''.join(data1)\n",
    "    data2 = b''.join(data2)\n",
    "\n",
    "    t[k] = time.time() - start_time\n",
    "    print(t[k])\n",
    "\n",
    "print('평균 시간 :', sum(t)/N)\n",
    "client.close()"
   ]
  }
 ],
 "metadata": {
  "kernelspec": {
   "display_name": "Python 3",
   "language": "python",
   "name": "python3"
  },
  "language_info": {
   "codemirror_mode": {
    "name": "ipython",
    "version": 3
   },
   "file_extension": ".py",
   "mimetype": "text/x-python",
   "name": "python",
   "nbconvert_exporter": "python",
   "pygments_lexer": "ipython3",
   "version": "3.7.0"
  }
 },
 "nbformat": 4,
 "nbformat_minor": 2
}
