{
 "cells": [
  {
   "cell_type": "code",
   "execution_count": 1,
   "metadata": {
    "scrolled": true
   },
   "outputs": [
    {
     "name": "stdout",
     "output_type": "stream",
     "text": [
      "3.6178832054138184\n",
      "3.730842113494873\n",
      "3.643871307373047\n",
      "3.6140451431274414\n",
      "5.052739143371582\n",
      "7.221260070800781\n",
      "15.621987581253052\n",
      "9.67905330657959\n",
      "7.007070541381836\n",
      "16.79796051979065\n",
      "평균 시간 : 7.598671293258667\n"
     ]
    }
   ],
   "source": [
    "import socket\n",
    "import numpy as np\n",
    "import time\n",
    "\n",
    "def XOR(index_data, my_data):\n",
    "    index_data = np.frombuffer(index_data, dtype='uint8') # 바이너리 해석\n",
    "    my_data = np.frombuffer(my_data, dtype='uint8')\n",
    "    \n",
    "    data = np.bitwise_xor(index_data, my_data) # xor 연산\n",
    "    data = data.tostring() # 데이터 바이너리화\n",
    "    \n",
    "    return data\n",
    "\n",
    "file = '/Users/winlab/Desktop/A100.txt'  # 가지고 있는 파일의 경로\n",
    "\n",
    "my_data = open(file, 'rb').read() # 가지고 있는 파일 바이너리 형식으로 읽어오기\n",
    "\n",
    "client = socket.socket(socket.AF_INET, socket.SOCK_DGRAM)\n",
    "client.bind(('', 44444))\n",
    "\n",
    "N = 10       # 반복 횟수\n",
    "t = [0] * N\n",
    "\n",
    "for k in range(N):\n",
    "    n = int(client.recv(16).decode())  #  분열 갯수\n",
    "\n",
    "    index_data = [0] * n\n",
    "\n",
    "    for i in range(n):\n",
    "        index_data[i] = client.recv(60000)\n",
    "\n",
    "    start_time = float(client.recv(32).decode())\n",
    "\n",
    "    index_data = b''.join(index_data)\n",
    "    data = XOR(index_data, my_data)\n",
    "\n",
    "    t[k] = time.time() - start_time\n",
    "    print(t[k])\n",
    "\n",
    "print('평균 시간 :', sum(t)/N)\n",
    "client.close()"
   ]
  }
 ],
 "metadata": {
  "kernelspec": {
   "display_name": "Python 3",
   "language": "python",
   "name": "python3"
  },
  "language_info": {
   "codemirror_mode": {
    "name": "ipython",
    "version": 3
   },
   "file_extension": ".py",
   "mimetype": "text/x-python",
   "name": "python",
   "nbconvert_exporter": "python",
   "pygments_lexer": "ipython3",
   "version": "3.7.0"
  }
 },
 "nbformat": 4,
 "nbformat_minor": 2
}
